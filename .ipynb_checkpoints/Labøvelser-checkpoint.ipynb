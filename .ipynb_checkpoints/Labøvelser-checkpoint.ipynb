{
 "cells": [
  {
   "cell_type": "markdown",
   "metadata": {},
   "source": [
    "# Labøvelser FYS1120"
   ]
  },
  {
   "cell_type": "markdown",
   "metadata": {},
   "source": [
    "## 1.1"
   ]
  },
  {
   "cell_type": "markdown",
   "metadata": {},
   "source": [
    "Spenningen $U$ over kondensatoren ved en tid $t$ etter at kretsen har blitt sluttet er gitt ved\n",
    "\n",
    "$$U=U_0e^{-t/\\tau}$$\n",
    "\n",
    "hvor $U_0$ er spenningen over kondensatoren før kretsen blit sluttet, og $\\tau\\equiv RC$ er tidskonstanten til kretsen."
   ]
  },
  {
   "cell_type": "markdown",
   "metadata": {},
   "source": [
    "### Oppgave 1.1.1"
   ]
  },
  {
   "cell_type": "markdown",
   "metadata": {},
   "source": [
    "Logaritmen til likningen blir\n",
    "\n",
    "$$\\ln{U}=\\ln{U_0e^{-t/\\tau}}\\\\\n",
    "=\\ln{U_0}+\\ln{e^{-t/\\tau}}\\\\\n",
    "\\ln{U}=\\ln{U_0}-\\frac{t}{\\tau}$$"
   ]
  },
  {
   "cell_type": "markdown",
   "metadata": {},
   "source": [
    "Likningen er nå lineær, altså på formen\n",
    "\n",
    "$$y=at+b$$\n",
    "\n",
    "hvor $y=\\ln{U}$, $a=-\\frac{1}{\\tau}$ og $b=\\ln{U_0}$."
   ]
  },
  {
   "cell_type": "markdown",
   "metadata": {},
   "source": [
    "Siden dette er en lineær likning, med stigningstall $a$ og at $\\tau\\equiv RC$, kan vi se at \n",
    "\n",
    "$$R=-\\frac{1}{aC}$$"
   ]
  },
  {
   "cell_type": "markdown",
   "metadata": {},
   "source": [
    "### Oppgave 1.1.2"
   ]
  },
  {
   "cell_type": "code",
   "execution_count": 1,
   "metadata": {},
   "outputs": [],
   "source": [
    "# import necessary libraries\n",
    "import numpy as np\n",
    "import matplotlib.pyplot as plt \n",
    "from scipy.stats import linregress as linreg"
   ]
  },
  {
   "cell_type": "code",
   "execution_count": 35,
   "metadata": {},
   "outputs": [],
   "source": [
    "def lin_reg(t, U, C):\n",
    "    '''Linear regression function'''\n",
    "    \n",
    "    result = linreg(t, np.log(U))\n",
    "    a = result.slope\n",
    "    b = result.intercept\n",
    "    \n",
    "    y = a*t + b\n",
    "    \n",
    "    plt.plot(t, np.log(U), 'o', label='Original data')\n",
    "    plt.plot(t, y, 'r', label='Fitted line')\n",
    "    \n",
    "    R = - 1 / (a*C)\n",
    "    \n",
    "    plt.legend()\n",
    "    plt.show()\n",
    "    \n",
    "    return R    "
   ]
  },
  {
   "cell_type": "code",
   "execution_count": 38,
   "metadata": {},
   "outputs": [],
   "source": []
  },
  {
   "cell_type": "code",
   "execution_count": null,
   "metadata": {},
   "outputs": [],
   "source": []
  }
 ],
 "metadata": {
  "kernelspec": {
   "display_name": "Python 3",
   "language": "python",
   "name": "python3"
  },
  "language_info": {
   "codemirror_mode": {
    "name": "ipython",
    "version": 3
   },
   "file_extension": ".py",
   "mimetype": "text/x-python",
   "name": "python",
   "nbconvert_exporter": "python",
   "pygments_lexer": "ipython3",
   "version": "3.8.3"
  }
 },
 "nbformat": 4,
 "nbformat_minor": 4
}
