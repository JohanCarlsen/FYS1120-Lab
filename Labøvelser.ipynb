{
 "cells": [
  {
   "cell_type": "markdown",
   "metadata": {},
   "source": [
    "Spenningen $U$ over kondensatoren ved en tid $t$ etter at kretsen har blitt sluttet er gitt ved\n",
    "\n",
    "$$U=U_0e^{-t/\\tau}$$\n",
    "\n",
    "hvor $U_0$ er spenningen over kondensatoren før kretsen blit sluttet, og $\\tau\\equiv RC$ er tidskonstanten til kretsen."
   ]
  },
  {
   "cell_type": "markdown",
   "metadata": {},
   "source": [
    "### Oppgave 1.1.1"
   ]
  },
  {
   "cell_type": "markdown",
   "metadata": {},
   "source": [
    "Logaritmen til likningen blir\n",
    "\n",
    "$$\\ln{U}=\\ln{U_0e^{-t/\\tau}}\\\\\n",
    "=\\ln{U_0}+\\ln{e^{-t/\\tau}}\\\\\n",
    "\\ln{U}=\\ln{U_0}-\\frac{t}{\\tau}$$"
   ]
  },
  {
   "cell_type": "markdown",
   "metadata": {},
   "source": [
    "Likningen er nå lineær, altså på formen\n",
    "\n",
    "$$y=at+b$$\n",
    "\n",
    "hvor $y=\\ln{U}$, $a=-\\frac{1}{\\tau}$ og $b=\\ln{U_0}$."
   ]
  },
  {
   "cell_type": "markdown",
   "metadata": {},
   "source": [
    "Siden dette er en lineær likning, med stigningstall $a$ og at $\\tau\\equiv RC$, kan vi se at \n",
    "\n",
    "$$R=-\\frac{1}{aC}$$"
   ]
  },
  {
   "cell_type": "markdown",
   "metadata": {},
   "source": [
    "### Oppgave 1.1.2"
   ]
  },
  {
   "cell_type": "code",
   "execution_count": 1,
   "metadata": {},
   "outputs": [],
   "source": [
    "# import necessary libraries\n",
    "import numpy as np\n",
    "import matplotlib.pyplot as plt \n",
    "from scipy.stats import linregress as linreg"
   ]
  },
  {
   "cell_type": "code",
   "execution_count": 35,
   "metadata": {},
   "outputs": [],
   "source": [
    "def lin_reg(t, U, C):\n",
    "    '''Linear regression function'''\n",
    "    \n",
    "    result = linreg(t, np.log(U))\n",
    "    a = result.slope\n",
    "    b = result.intercept\n",
    "    \n",
    "    y = a*t + b\n",
    "    \n",
    "    plt.plot(t, np.log(U), 'o', label='Original data')\n",
    "    plt.plot(t, y, 'r', label='Fitted line')\n",
    "    \n",
    "    R = - 1 / (a*C)\n",
    "    \n",
    "    plt.legend()\n",
    "    plt.show()\n",
    "    \n",
    "    return R    "
   ]
  },
  {
   "cell_type": "markdown",
   "metadata": {},
   "source": [
    "### Oppgave 2.1.1"
   ]
  },
  {
   "cell_type": "code",
   "execution_count": 1,
   "metadata": {},
   "outputs": [],
   "source": [
    "def find_resistance(I, U):\n",
    "    '''Function to find the resistance with linear regression'''\n",
    "    \n",
    "    result = linreg(I, np.log(U))\n",
    "    a = result.slope\n",
    "    b = result.intercept\n",
    "    \n",
    "    y = a*I + b\n",
    "    \n",
    "    plt.plot(I, np.log(U), 'o', label='Original data')\n",
    "    plt.plot(I, y, 'r', label='Fitted line')\n",
    "    \n",
    "    plt.legend()\n",
    "    plt.show()\n",
    "    \n",
    "    return a"
   ]
  },
  {
   "cell_type": "markdown",
   "metadata": {},
   "source": [
    "### Oppgave 3.1.1"
   ]
  },
  {
   "cell_type": "markdown",
   "metadata": {},
   "source": [
    "Vi har et Peltier-element med emf $\\varepsilon$ og indre resistans $r$, hvor det går en strøm $I$ gjennom. For å finne spenningen $U$, bruker vi Kirchoffs spenningslov\n",
    "\n",
    "$$\\sum_i\\Delta V_i=0$$\n",
    "\n",
    "Vi får \n",
    "\n",
    "$$\\varepsilon-rI-U=0\\\\\n",
    "U = \\varepsilon-rI$$"
   ]
  },
  {
   "cell_type": "markdown",
   "metadata": {},
   "source": [
    "### Oppgave 3.1.2"
   ]
  },
  {
   "cell_type": "code",
   "execution_count": 3,
   "metadata": {},
   "outputs": [],
   "source": [
    "def peltier(R, U):\n",
    "    '''Function to find emf and inner resistance r'''\n",
    "    \n",
    "    result = linreg(R, np.log(U))\n",
    "    r = result.slope\n",
    "    emf = result.intercept\n",
    "    \n",
    "    y = r*R + emf\n",
    "    \n",
    "    plt.plot(R, np.log(U), 'o', label='Original data')\n",
    "    plt.plot(R, y, 'r', label='Fitted line')\n",
    "    \n",
    "    plt.legend()\n",
    "    plt.show()\n",
    "    \n",
    "    return r, emf    "
   ]
  },
  {
   "cell_type": "markdown",
   "metadata": {},
   "source": [
    "### Oppgave 5.1.1"
   ]
  },
  {
   "cell_type": "markdown",
   "metadata": {},
   "source": [
    "$$\\varepsilon=-\\frac{d\\Phi}{dt}$$\n",
    "\n",
    "hvor $\\Phi=NAB\\cos(\\theta)$, er fluksen gjennom spolen med areal $A$ og $N$ vindinger."
   ]
  },
  {
   "cell_type": "markdown",
   "metadata": {},
   "source": [
    "$$\\varepsilon=-\\frac{d\\Phi}{dt}\\\\\n",
    "=-\\frac{d}{dt}\\big(NAB\\cos(\\omega t)\\big)\\\\\n",
    "=\\omega NAB\\sin(\\omega t)$$\n",
    "\n",
    "Løser for $X$ og $B$:\n",
    "\n",
    "$$X=\\omega NAB\\\\\n",
    "B=\\frac{X}{\\omega NA}$$"
   ]
  },
  {
   "cell_type": "code",
   "execution_count": null,
   "metadata": {},
   "outputs": [],
   "source": []
  }
 ],
 "metadata": {
  "kernelspec": {
   "display_name": "Python 3",
   "language": "python",
   "name": "python3"
  },
  "language_info": {
   "codemirror_mode": {
    "name": "ipython",
    "version": 3
   },
   "file_extension": ".py",
   "mimetype": "text/x-python",
   "name": "python",
   "nbconvert_exporter": "python",
   "pygments_lexer": "ipython3",
   "version": "3.8.3"
  }
 },
 "nbformat": 4,
 "nbformat_minor": 4
}
